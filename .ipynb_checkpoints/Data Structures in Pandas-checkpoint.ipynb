{
 "cells": [
  {
   "cell_type": "markdown",
   "id": "4da477cb",
   "metadata": {},
   "source": [
    "### There are 2 main Data Strctures in Pandas\n",
    "### 1. Series\n",
    "### 2. DataFrames"
   ]
  },
  {
   "cell_type": "markdown",
   "id": "dbed644b",
   "metadata": {},
   "source": [
    "### 1. Series\n",
    "\n",
    "**Series is a one-dimensional array of any data type(integers, strings, floating point numbers or python objects).**  \n",
    "\n",
    "**s = pd.Series(data, index = index)**"
   ]
  },
  {
   "cell_type": "code",
   "execution_count": 9,
   "id": "fe6098c4",
   "metadata": {},
   "outputs": [],
   "source": [
    "import pandas as pd\n",
    "import numpy as np"
   ]
  },
  {
   "cell_type": "markdown",
   "id": "41c400a5",
   "metadata": {},
   "source": [
    "<h4>1. Creating Series Using Dict"
   ]
  },
  {
   "cell_type": "code",
   "execution_count": 17,
   "id": "73eb784c",
   "metadata": {},
   "outputs": [],
   "source": [
    "d = {\n",
    "    'a': 0,\n",
    "    'b':1,\n",
    "    'z':25\n",
    "    }"
   ]
  },
  {
   "cell_type": "code",
   "execution_count": 23,
   "id": "a89f2d60",
   "metadata": {},
   "outputs": [
    {
     "data": {
      "text/plain": [
       "a     0.0\n",
       "b     1.0\n",
       "c     NaN\n",
       "z    25.0\n",
       "dtype: float64"
      ]
     },
     "execution_count": 23,
     "metadata": {},
     "output_type": "execute_result"
    }
   ],
   "source": [
    "series1 = pd.Series(d, ['a','b','c','z'])\n",
    "series1"
   ]
  },
  {
   "cell_type": "markdown",
   "id": "64b174e0",
   "metadata": {},
   "source": [
    "<h4>2. Creating Series Using "
   ]
  },
  {
   "cell_type": "code",
   "execution_count": 16,
   "id": "c6cb23c9",
   "metadata": {},
   "outputs": [
    {
     "data": {
      "text/plain": [
       "a     0.0\n",
       "b     1.0\n",
       "c     NaN\n",
       "z    25.0\n",
       "dtype: float64"
      ]
     },
     "execution_count": 16,
     "metadata": {},
     "output_type": "execute_result"
    }
   ],
   "source": [
    "pd.Series(5,range(4))"
   ]
  },
  {
   "cell_type": "code",
   "execution_count": 12,
   "id": "c6bbf80b",
   "metadata": {},
   "outputs": [
    {
     "data": {
      "text/plain": [
       "a    0.444764\n",
       "b    0.484719\n",
       "c   -1.517834\n",
       "d    2.003766\n",
       "dtype: float64"
      ]
     },
     "execution_count": 12,
     "metadata": {},
     "output_type": "execute_result"
    }
   ],
   "source": [
    "pd.Series(np.random.randn(4),['a','b','c','d'])"
   ]
  },
  {
   "cell_type": "code",
   "execution_count": 14,
   "id": "87558e92",
   "metadata": {},
   "outputs": [
    {
     "data": {
      "text/plain": [
       "a    1.0\n",
       "b    2.0\n",
       "c    3.0\n",
       "d    4.0\n",
       "dtype: float64"
      ]
     },
     "execution_count": 14,
     "metadata": {},
     "output_type": "execute_result"
    }
   ],
   "source": [
    "pd.Series([1.0,2,3,4],['a','b','c','d'])"
   ]
  },
  {
   "cell_type": "code",
   "execution_count": null,
   "id": "b6965e00",
   "metadata": {},
   "outputs": [],
   "source": []
  }
 ],
 "metadata": {
  "kernelspec": {
   "display_name": "Python 3 (ipykernel)",
   "language": "python",
   "name": "python3"
  },
  "language_info": {
   "codemirror_mode": {
    "name": "ipython",
    "version": 3
   },
   "file_extension": ".py",
   "mimetype": "text/x-python",
   "name": "python",
   "nbconvert_exporter": "python",
   "pygments_lexer": "ipython3",
   "version": "3.9.7"
  }
 },
 "nbformat": 4,
 "nbformat_minor": 5
}
